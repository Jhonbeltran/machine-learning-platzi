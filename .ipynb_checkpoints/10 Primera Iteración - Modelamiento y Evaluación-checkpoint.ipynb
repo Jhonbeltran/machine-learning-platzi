{
 "cells": [
  {
   "cell_type": "markdown",
   "metadata": {
    "slideshow": {
     "slide_type": "slide"
    }
   },
   "source": [
    "## Antes de entrenar un modelo, aprendamos sobre el funcionamiento y la API de scikit-learn"
   ]
  },
  {
   "cell_type": "markdown",
   "metadata": {},
   "source": [
    "> Datos importantes:\n",
    "\n",
    "* Por como fue diseñado Scikit-Learn, existe una API muy fácil de ocupar y muy unificada. Esta unificación se da por un objeto que se llama “estimador” que tiene en todos los casos y para el algoritmo de Machine Learning que sea, una API que es común y 3 métodos que son clave.\n",
    "* Scikit-Learn posee muchos modelos, se pueden implementar tanto, regresiones lineales como regresiones regularizadas, árboles de decisión, SDMs, Random Forest, etc.\n",
    "* Scikit-Learn contiene todos los modelos que son usados hoy en día, y una de las virtudes de esta librería es que sigue muy de cerca lo que pasa en la investigación.\n",
    "* Scikit-Learn es la librería más usada de Machine Learning General, no de Machine Learning Especializado, para ello está la librería de Tensor Flow y sirve casi exclusivamente para modelos de Deep Learning."
   ]
  },
  {
   "cell_type": "code",
   "execution_count": 1,
   "metadata": {},
   "outputs": [],
   "source": [
    "import numpy as np \n",
    "import pandas as pd"
   ]
  },
  {
   "cell_type": "markdown",
   "metadata": {
    "collapsed": true,
    "slideshow": {
     "slide_type": "slide"
    }
   },
   "source": [
    "<div class=\"alert alert-block alert-info\" style=\"margin-top: 20px\">\n",
    "  Scikit-learn es la librería más usada de Machine Learning tradicional [Ver ranking de Github](https://github.com/showcases/machine-learning). La librería incluye funcionalidades de:\n",
    "  \n",
    "  <ul>\n",
    "    <li> Preprocesamiento de datos en <code> sklearn.preprocessing </code> </li>\n",
    "    <li> Algoritmos de Machine Learning en <code>sklearn.linear_model</code>, <code>sklearn.svm</code>, <code>sklearn.ensemble</code>, y muchos más.</li>\n",
    "    <li> Evaluación de modelos en <code>sklearn.model_selection</code> y <code>sklearn.metrics</code> </li>\n",
    "  </ul>\n",
    "</div>"
   ]
  },
  {
   "cell_type": "markdown",
   "metadata": {
    "slideshow": {
     "slide_type": "-"
    }
   },
   "source": [
    "<div class=\"alert alert-success\">\n",
    "  Scikit-learn sigue muy de cerca los resultados de la investigación e implementa los resultados más maduros y probados en sus modulos. La [documentación](http://scikit-learn.org/stable/modules/ensemble.html#forests-of-randomized-trees) extensa muestra como la librería es un compendio de conocimiento en Machine Learning llevado a software\n",
    "</div>"
   ]
  },
  {
   "cell_type": "markdown",
   "metadata": {},
   "source": [
    "<div class=\"alert alert-block alert-info\" style=\"margin-top: 20px\">\n",
    "  Una estructura de datos esencial en scikit-learn es el <strong>Estimator</strong>\n",
    "</div>\n",
    "<div class=\"alert alert-block alert-info\" style=\"margin-top: 20px\">\n",
    "  El estimador es lo que se entrena, aprende y predice\n",
    "</div>"
   ]
  },
  {
   "cell_type": "markdown",
   "metadata": {},
   "source": [
    "## Pasos que se siguen para trabajar con el estimador\n",
    "1. Instanciamos el Estimador que se va a usar\n",
    "2. Al usar Estimador.fit() entrenamos el modelo, recibe como parametros: matriz de entrenamiento (X_train), vector objetivo (y_train) y argumentos adicionales del estimador (Hiperparametros)\n",
    "3. En este punto ya tendremos un modelo entrenado con el que se van a realizar predicciones usando el metodo Estimador.predict()\n"
   ]
  },
  {
   "cell_type": "markdown",
   "metadata": {},
   "source": [
    "<div class=\"alert alert-block alert-info\" style=\"margin-top: 20px\">\n",
    "  El <strong>output</strong> de un algoritmo de ML es un modelo entrenado que puede hacer predicciones.\n",
    "</div>"
   ]
  },
  {
   "cell_type": "markdown",
   "metadata": {
    "slideshow": {
     "slide_type": "slide"
    }
   },
   "source": [
    "<img src=\"img/estimator.png\" width=\"600\" style=\"margin:0 auto;clear:both\">"
   ]
  },
  {
   "cell_type": "markdown",
   "metadata": {},
   "source": [
    "### El Flujo de trabajo más a detalle con los Estimadores\n",
    "Antes de realizar la parte de .fit() y de .predict(), es decir entrenamiento y predicción, lo que se hace es separar los datos:\n",
    "* X = nuestro dataFrame completo\n",
    "* y = las variables target\n",
    "\n",
    "Estos dos elementos pasan por un train_test_split el cual separa los datos en \n",
    "* Datos de entrenamiento 70%(ejemplo)\n",
    "* Datos de Test 30%(ejemplo)\n",
    "\n",
    "Los datos son elegidos de forma aleatoria. Luego de que el modelo esta entrenado, usamos los datos de testeo usando el metodo Estimador.score() para medir el desempeño de la predicción."
   ]
  },
  {
   "cell_type": "markdown",
   "metadata": {
    "slideshow": {
     "slide_type": "slide"
    }
   },
   "source": [
    "<img src=\"img/evaluation_flow.png\">"
   ]
  },
  {
   "cell_type": "markdown",
   "metadata": {
    "slideshow": {
     "slide_type": "slide"
    }
   },
   "source": [
    "<div class=\"alert alert-block alert-info\" style=\"margin-top: 20px\">\n",
    "  Para poder escoger el estimator apropiado una excelente guia es el <strong>cheatsheet</strong> siguiente, hecho por uno de los core-dev de scikit-learn.\n",
    "</div>\n",
    "\n",
    "<img src=\"img/ml_map.png\" width=\"1000\" style=\"margin:0 auto;clear:both\">"
   ]
  },
  {
   "cell_type": "markdown",
   "metadata": {
    "slideshow": {
     "slide_type": "slide"
    }
   },
   "source": [
    "## Implementemos un modelo simple de regresión primero"
   ]
  },
  {
   "cell_type": "code",
   "execution_count": 2,
   "metadata": {
    "slideshow": {
     "slide_type": "slide"
    }
   },
   "outputs": [],
   "source": [
    "X = pd.read_csv('intermediate_results/X.csv') #Traigo mi matriz (dataFrame) creada en el notebook 09"
   ]
  },
  {
   "cell_type": "code",
   "execution_count": 3,
   "metadata": {
    "slideshow": {
     "slide_type": "-"
    }
   },
   "outputs": [],
   "source": [
    "y = X['worldwide_gross'] #Defino cual es mi columna objetivo (un vector)"
   ]
  },
  {
   "cell_type": "code",
   "execution_count": 4,
   "metadata": {
    "slideshow": {
     "slide_type": "-"
    }
   },
   "outputs": [],
   "source": [
    "X = X.drop('worldwide_gross',axis=1) #Elimino la variable objetivo del dataFrame para poder trabajar"
   ]
  },
  {
   "cell_type": "code",
   "execution_count": 5,
   "metadata": {
    "slideshow": {
     "slide_type": "slide"
    }
   },
   "outputs": [],
   "source": [
    "from sklearn.model_selection import train_test_split \n",
    "#Separamos los datos de entrenamiento y los de test\n",
    "\n",
    "X_train, X_test, y_train, y_test = train_test_split(X,y,test_size=0.4,random_state=1) \n",
    "#Tendremos 60% de datos para entrenamiento y 40% de datos para test"
   ]
  },
  {
   "cell_type": "code",
   "execution_count": 6,
   "metadata": {
    "slideshow": {
     "slide_type": "-"
    }
   },
   "outputs": [
    {
     "name": "stdout",
     "output_type": "stream",
     "text": [
      "2221\n",
      "1332\n",
      "889\n"
     ]
    }
   ],
   "source": [
    "print(len(X))\n",
    "print(len(X_train))\n",
    "print(len(X_test))"
   ]
  },
  {
   "cell_type": "code",
   "execution_count": 7,
   "metadata": {},
   "outputs": [
    {
     "data": {
      "text/html": [
       "<div>\n",
       "<style scoped>\n",
       "    .dataframe tbody tr th:only-of-type {\n",
       "        vertical-align: middle;\n",
       "    }\n",
       "\n",
       "    .dataframe tbody tr th {\n",
       "        vertical-align: top;\n",
       "    }\n",
       "\n",
       "    .dataframe thead th {\n",
       "        text-align: right;\n",
       "    }\n",
       "</style>\n",
       "<table border=\"1\" class=\"dataframe\">\n",
       "  <thead>\n",
       "    <tr style=\"text-align: right;\">\n",
       "      <th></th>\n",
       "      <th>production_budget</th>\n",
       "      <th>title_year</th>\n",
       "      <th>aspect_ratio</th>\n",
       "      <th>duration.1</th>\n",
       "      <th>cast_total_facebook_likes</th>\n",
       "      <th>budget</th>\n",
       "      <th>imdb_score</th>\n",
       "      <th>opening_gross</th>\n",
       "      <th>screens</th>\n",
       "    </tr>\n",
       "  </thead>\n",
       "  <tbody>\n",
       "    <tr>\n",
       "      <th>0</th>\n",
       "      <td>425000000.0</td>\n",
       "      <td>2009.0</td>\n",
       "      <td>1.78</td>\n",
       "      <td>178.0</td>\n",
       "      <td>4834.0</td>\n",
       "      <td>237000000.0</td>\n",
       "      <td>7.9</td>\n",
       "      <td>77025481.0</td>\n",
       "      <td>3452.0</td>\n",
       "    </tr>\n",
       "  </tbody>\n",
       "</table>\n",
       "</div>"
      ],
      "text/plain": [
       "   production_budget  title_year  aspect_ratio  duration.1  \\\n",
       "0        425000000.0      2009.0          1.78       178.0   \n",
       "\n",
       "   cast_total_facebook_likes       budget  imdb_score  opening_gross  screens  \n",
       "0                     4834.0  237000000.0         7.9     77025481.0   3452.0  "
      ]
     },
     "execution_count": 7,
     "metadata": {},
     "output_type": "execute_result"
    }
   ],
   "source": [
    "X.head(1)"
   ]
  },
  {
   "cell_type": "code",
   "execution_count": 8,
   "metadata": {},
   "outputs": [],
   "source": [
    "from sklearn.linear_model import Lasso #Importamos el estimador que vamos a usar\n",
    "\n",
    "model = Lasso() #instanciamos el modelo"
   ]
  },
  {
   "cell_type": "code",
   "execution_count": 9,
   "metadata": {
    "scrolled": true
   },
   "outputs": [
    {
     "name": "stderr",
     "output_type": "stream",
     "text": [
      "/home/jbeltranleon/.virtualenvs/mlenv/lib/python3.6/site-packages/sklearn/linear_model/coordinate_descent.py:491: ConvergenceWarning: Objective did not converge. You might want to increase the number of iterations. Fitting data with very small alpha may cause precision problems.\n",
      "  ConvergenceWarning)\n"
     ]
    },
    {
     "data": {
      "text/plain": [
       "Lasso(alpha=1.0, copy_X=True, fit_intercept=True, max_iter=1000,\n",
       "   normalize=False, positive=False, precompute=False, random_state=None,\n",
       "   selection='cyclic', tol=0.0001, warm_start=False)"
      ]
     },
     "execution_count": 9,
     "metadata": {},
     "output_type": "execute_result"
    }
   ],
   "source": [
    "model.fit(X_train,y_train) #Entrenamos el modelo"
   ]
  },
  {
   "cell_type": "code",
   "execution_count": 10,
   "metadata": {},
   "outputs": [],
   "source": [
    "predicted = model.predict(X_test) #usamos los X_test para realizar las predicciones del 'worldwide_gross'"
   ]
  },
  {
   "cell_type": "code",
   "execution_count": 11,
   "metadata": {},
   "outputs": [
    {
     "data": {
      "text/plain": [
       "array([ 2.52862683e+07,  6.79879146e+07, -8.21649705e+06,  3.21512992e+07,\n",
       "        1.04432212e+08,  5.27222545e+08,  7.33169503e+07,  3.04956814e+08,\n",
       "        9.39311964e+07,  1.18579275e+08,  1.45107600e+08,  2.12124746e+08,\n",
       "        1.04669022e+08,  4.46185107e+06,  6.22490267e+07,  1.45690945e+08,\n",
       "        2.84347542e+08,  4.69405306e+07,  1.17978968e+08,  5.92192991e+07,\n",
       "        8.61446110e+07,  8.48397373e+07,  1.34998760e+08,  8.88499476e+06,\n",
       "        1.19955478e+08,  7.11343316e+07,  7.03446577e+07,  6.73553995e+07,\n",
       "        8.89320011e+07, -4.28324307e+06,  5.72107991e+07,  1.81170546e+08,\n",
       "        2.50031522e+07,  8.94557539e+07,  1.37328696e+07,  1.89447086e+08,\n",
       "        6.04502845e+07,  4.57649121e+08,  1.65778368e+07,  8.41625866e+07,\n",
       "        5.18341878e+07,  5.56501258e+07, -2.39700358e+07,  1.77895346e+08,\n",
       "        1.06522153e+08,  8.78306361e+07,  1.10761252e+08,  6.97171926e+07,\n",
       "       -2.04576964e+07,  1.42464401e+08,  3.62317962e+07,  2.84519103e+08,\n",
       "        6.23813371e+07,  3.10260587e+07,  9.33746874e+06,  6.95893011e+07,\n",
       "        5.65461168e+07,  1.28578479e+08,  3.46490564e+08,  1.44250890e+08,\n",
       "       -9.54844192e+06,  1.92717868e+08,  4.38247918e+07,  7.59873773e+07,\n",
       "        3.94391210e+08,  1.01974959e+08,  9.27259952e+07,  3.58875332e+07,\n",
       "        1.34236811e+08,  8.38921174e+07,  1.05771205e+08,  6.69910065e+07,\n",
       "        2.76484166e+08,  8.20469492e+07,  7.76325616e+07,  2.64678142e+08,\n",
       "        5.51582408e+07,  4.84092297e+07,  9.97116565e+07,  2.44800738e+08,\n",
       "        1.70663065e+08, -1.44226294e+07,  1.97092952e+08,  1.69590134e+08,\n",
       "        5.95268408e+07, -1.04972081e+07,  1.29238419e+08,  8.81668306e+07,\n",
       "        2.87424642e+08,  1.87744111e+08,  1.20677759e+08,  4.75296148e+07,\n",
       "       -4.49517733e+05,  1.24149839e+08,  3.63856656e+07,  6.30564091e+07,\n",
       "        5.98016241e+08,  8.45830572e+07,  7.17482811e+07,  9.86756037e+07,\n",
       "        2.44360040e+07,  1.11214627e+08,  1.39966309e+08,  3.18966858e+07,\n",
       "        3.38069099e+07,  2.61580453e+07,  1.44375071e+07,  4.61643227e+08,\n",
       "        1.91257244e+08,  4.11842698e+07,  2.41229369e+08,  2.50981266e+07,\n",
       "        2.35515448e+07,  1.69012517e+08,  6.60851291e+07,  1.30154561e+08,\n",
       "        1.67395622e+08,  2.81675922e+08,  3.89441240e+08,  2.92022112e+07,\n",
       "        1.02874767e+08,  1.32801833e+07,  1.54366648e+07,  1.77597501e+08,\n",
       "        2.42322798e+08,  9.18389750e+07,  2.08641812e+08,  4.15203597e+08,\n",
       "        1.05928403e+08,  3.59549131e+07,  1.78860948e+08,  2.58315100e+07,\n",
       "        6.80557295e+07,  1.09374691e+08,  8.98623611e+07,  2.63084221e+07,\n",
       "        2.68718349e+07,  3.53004796e+07,  8.55940737e+06,  1.33959375e+08,\n",
       "        1.55659598e+08,  2.13053408e+08,  1.89541578e+08,  1.12450249e+08,\n",
       "        6.69893380e+07,  2.67780883e+08,  5.64520417e+08,  1.01918734e+08,\n",
       "        5.38540786e+07,  1.61348322e+08,  2.62789239e+08,  1.02281373e+08,\n",
       "        3.37812039e+07,  2.73894264e+07,  7.65524172e+07,  2.04560235e+07,\n",
       "        6.01717855e+07,  7.84736343e+07, -2.79817083e+07,  5.84132506e+07,\n",
       "        1.25757636e+07,  2.96460849e+07,  7.34802286e+07,  1.81810637e+08,\n",
       "        5.77479679e+07,  8.29128809e+07,  1.83289404e+08,  1.04539787e+08,\n",
       "        1.10378631e+08,  2.34328364e+08,  1.08174112e+08,  2.95964912e+06,\n",
       "        3.95884793e+07,  2.09738794e+07,  5.18601284e+07,  5.20662130e+08,\n",
       "        1.72668267e+08,  1.34715278e+08,  1.38858720e+07,  2.26569468e+08,\n",
       "        3.80618219e+07,  1.83785765e+07, -8.75078278e+06,  3.39570056e+07,\n",
       "        7.07083530e+07,  1.70225432e+08,  4.17489411e+07,  8.70930426e+07,\n",
       "        6.16894467e+07,  1.60569931e+08,  4.20528145e+07,  1.45037115e+07,\n",
       "        9.72191954e+07,  8.35825069e+07,  1.44439853e+08,  5.21643548e+08,\n",
       "        4.92777652e+08,  4.89405647e+08,  1.81645550e+08,  1.84423397e+08,\n",
       "        1.00733335e+08,  2.65026994e+08,  5.30257160e+07,  9.62490904e+07,\n",
       "        5.88548635e+08,  2.38649806e+07, -6.57252870e+06,  1.97227683e+08,\n",
       "        1.56336781e+06,  2.02182121e+08,  5.83727902e+07,  3.83632435e+07,\n",
       "        8.28065228e+07,  1.85438234e+08,  1.48646725e+07, -6.57612767e+07,\n",
       "        2.33195732e+08,  2.50816380e+08,  8.82235943e+07,  8.03720386e+07,\n",
       "        2.30680254e+08,  1.07705098e+09,  7.86920469e+07,  3.78864864e+07,\n",
       "        9.14049636e+07,  1.11318823e+08,  2.47982389e+07,  6.20149432e+08,\n",
       "        6.48648170e+08,  2.09086541e+07,  1.11082950e+08,  5.27365079e+07,\n",
       "        2.57371864e+07,  4.55133839e+07,  2.25717203e+08,  1.29171625e+07,\n",
       "        1.93414652e+08,  8.27852029e+07,  3.52212219e+08,  1.66536439e+08,\n",
       "       -1.01455577e+07,  1.59696080e+08, -8.19638843e+06,  2.47260746e+08,\n",
       "        5.03668548e+07,  2.95908797e+08,  5.48062263e+07,  1.78357300e+08,\n",
       "        4.65716197e+08,  1.09436650e+08,  4.18073780e+07,  2.94972837e+08,\n",
       "        4.99514943e+07,  2.03288492e+08,  5.91658360e+08,  2.46387533e+08,\n",
       "        1.48238541e+08,  8.70312424e+07,  7.34055429e+07,  1.23880031e+08,\n",
       "        1.82824249e+07,  9.82439838e+07,  3.39623524e+07,  2.19357922e+08,\n",
       "        1.06460504e+08, -1.25943893e+07,  4.93718803e+07,  6.04742888e+06,\n",
       "        5.36712052e+07,  1.15442265e+08,  1.58815185e+08,  5.78509657e+07,\n",
       "        6.03535634e+06,  2.68874196e+08,  8.12389132e+07,  4.98805087e+08,\n",
       "        2.41196769e+08,  1.54956037e+08,  6.53866492e+07,  3.55583708e+07,\n",
       "        3.52608138e+08,  1.11564319e+08,  1.16512175e+08,  2.93388959e+07,\n",
       "        7.27604933e+07,  1.51522771e+08, -1.09447482e+08,  2.37690384e+05,\n",
       "        1.69805398e+08,  3.49903148e+07,  8.63275836e+07,  8.02692186e+08,\n",
       "        1.77718622e+08,  1.94639704e+08,  1.40280533e+07,  1.32189797e+08,\n",
       "        6.00674362e+07, -1.76280208e+05,  1.06067326e+07,  6.85458025e+07,\n",
       "       -1.82626505e+07,  1.15820982e+08,  6.42956293e+08,  7.23806549e+07,\n",
       "        7.05539846e+07,  1.30023581e+09,  9.80392649e+07,  1.86912965e+08,\n",
       "        1.21287567e+08,  2.69003380e+08,  9.16657338e+07,  1.55420066e+08,\n",
       "        6.00538862e+07,  1.90063515e+08,  3.92555292e+07,  1.69897753e+08,\n",
       "        1.37442878e+08,  1.20770913e+08,  1.31377816e+08,  8.29545100e+07,\n",
       "        2.29195205e+08,  1.17089151e+09, -3.01740610e+07,  2.52463016e+08,\n",
       "        6.51210601e+08,  1.42323703e+08,  1.30058345e+08, -4.92778459e+06,\n",
       "        4.22719691e+08,  1.84388087e+08,  2.04002296e+07,  9.43895910e+07,\n",
       "        1.10876228e+08,  1.17266993e+08,  3.15401651e+07,  1.43901572e+08,\n",
       "        3.08764863e+08,  7.81775025e+07,  8.22879208e+07,  1.72587789e+08,\n",
       "        5.36014405e+07,  2.98220981e+08,  1.04247060e+08,  8.16813851e+07,\n",
       "        1.90348027e+08,  1.16584532e+08,  3.55521535e+07,  7.49905678e+07,\n",
       "        2.38550533e+07,  3.74534787e+07,  3.92432357e+07,  5.16667360e+07,\n",
       "        1.40603402e+08,  2.14681821e+08,  8.01669037e+07,  1.73215102e+08,\n",
       "        4.88968415e+07,  1.57484424e+07,  9.73125343e+07,  8.29128809e+07,\n",
       "        2.93315085e+07,  7.87767375e+07,  4.65492083e+08,  3.94399724e+07,\n",
       "        9.36036025e+07,  1.76919747e+08,  1.01495277e+08,  6.79437423e+07,\n",
       "        8.01833560e+07,  8.01463601e+07,  9.01724919e+07,  1.57174184e+08,\n",
       "        5.34404774e+07,  1.23888524e+08,  9.39161874e+07,  6.33703647e+07,\n",
       "        1.61622948e+08,  3.58304152e+07,  4.77276568e+07, -3.72213516e+07,\n",
       "        1.52631180e+08,  5.62211960e+08,  1.13359194e+08,  4.77618093e+06,\n",
       "       -3.53979339e+06,  9.78664506e+07,  1.04779017e+08,  6.22490267e+07,\n",
       "        1.45348002e+08, -4.49190203e+07,  2.62969819e+08,  5.55693270e+07,\n",
       "        1.11300354e+08,  6.43230652e+07,  2.97005358e+07,  7.60458504e+07,\n",
       "        9.96576971e+06,  2.06442693e+07,  2.58007969e+08,  2.61635224e+08,\n",
       "       -2.46312653e+07,  4.13475550e+08,  8.23867105e+07,  1.25216863e+08,\n",
       "        2.72070685e+07, -8.29363304e+05,  6.10593375e+07,  3.03865826e+08,\n",
       "        5.02097491e+07, -4.26563077e+07,  3.42788253e+08,  6.55474046e+07,\n",
       "        4.28200948e+07,  9.67850892e+07,  4.13179655e+07,  1.18469822e+08,\n",
       "        4.75055987e+07, -3.62176838e+07,  1.28194234e+08,  9.53218443e+07,\n",
       "        1.34009960e+08,  1.74057852e+07,  1.90469654e+07,  5.39163887e+07,\n",
       "       -6.61598832e+06,  3.10655885e+07,  1.98934735e+08,  1.27026486e+08,\n",
       "        4.37820925e+08, -9.23096722e+07,  9.92833106e+07,  5.75947036e+07,\n",
       "        2.83475108e+07,  5.51090673e+06,  2.87678590e+08,  2.93772489e+08,\n",
       "        1.49312463e+08,  2.01815803e+07,  1.12949774e+08,  1.07311793e+07,\n",
       "        1.16010824e+08,  9.54908177e+07,  1.05939679e+08,  1.25185919e+08,\n",
       "        7.12002773e+07,  1.64482956e+08,  7.49161681e+07,  7.91492400e+07,\n",
       "        3.48813295e+08,  1.19282826e+08,  1.03923546e+08,  3.11645175e+07,\n",
       "        1.50907314e+07,  2.77665314e+08,  7.21774442e+07,  2.35625580e+08,\n",
       "        4.02534144e+08,  8.21014891e+07,  1.14419775e+08,  7.49497535e+07,\n",
       "        5.00391424e+07,  1.53911317e+07,  2.17547559e+08, -4.25935510e+07,\n",
       "        8.65787255e+07,  2.22634288e+08,  2.31097944e+08,  7.56694576e+08,\n",
       "        4.25391518e+08,  1.74611135e+08,  2.78743279e+08,  2.31209116e+08,\n",
       "       -2.47075089e+06,  4.57634090e+07,  3.82764929e+08,  1.84388087e+08,\n",
       "       -6.28613450e+06,  4.87442709e+07,  5.45002009e+07,  1.45690115e+08,\n",
       "        2.44659634e+08,  1.24000649e+08,  9.37782187e+07,  4.14644984e+07,\n",
       "        9.83528296e+06,  4.55205940e+07,  2.24934131e+07,  2.47465402e+08,\n",
       "        2.49744926e+08,  1.01892838e+08,  3.81282901e+07,  1.20088452e+07,\n",
       "        7.15983105e+07,  1.13140152e+08,  9.70263974e+07,  4.99046114e+07,\n",
       "        7.65059550e+07,  6.46605241e+07,  2.05801581e+07,  3.94707548e+07,\n",
       "        4.22911316e+08,  3.40606420e+08,  6.57257234e+07,  9.36903652e+06,\n",
       "        2.18024939e+07,  4.61354051e+08,  2.75380641e+08,  3.81438954e+07,\n",
       "        2.23253361e+06,  3.72048272e+07,  4.55066778e+07,  1.84342755e+08,\n",
       "        1.56258910e+08,  9.81422452e+07,  2.34673650e+08,  2.06695680e+08,\n",
       "        3.36643317e+07,  8.56672584e+07,  9.83276162e+06,  2.68508484e+07,\n",
       "        7.81459279e+08,  6.47645488e+06,  1.89874574e+08,  4.44791195e+07,\n",
       "        1.09225822e+09,  1.81519259e+07,  1.45066509e+08,  3.82913630e+07,\n",
       "        4.36664756e+07,  1.65637359e+08,  6.78856371e+07, -8.36660388e+07,\n",
       "        9.64110984e+07,  4.92369544e+08,  1.26500883e+08,  7.73956552e+07,\n",
       "        2.41853756e+07,  1.67455255e+07,  4.79880198e+08,  7.62322539e+07,\n",
       "        2.56997137e+07,  1.17509450e+08,  1.31271625e+08,  2.49214003e+07,\n",
       "        1.04711120e+08,  5.51120963e+07,  1.49608669e+08, -1.58831322e+07,\n",
       "        8.01509311e+07,  3.77607348e+08,  5.98418554e+07,  3.13447881e+08,\n",
       "        4.19029324e+07,  5.19460345e+07,  1.06227471e+08,  5.32004137e+08,\n",
       "       -1.27048432e+07,  2.52336882e+07, -1.85549811e+07,  8.01228314e+07,\n",
       "        1.86614721e+08, -2.53253487e+07,  3.35410212e+08,  1.32153747e+08,\n",
       "        8.57356188e+07,  7.85234181e+07,  1.33837978e+07, -1.07372914e+07,\n",
       "        1.27285586e+09,  2.86373161e+08,  8.08352288e+08,  2.14610243e+07,\n",
       "        2.08437710e+08,  6.08924134e+07,  5.03150388e+06,  6.32145058e+07,\n",
       "        7.71653142e+07,  1.10062749e+08,  2.76771599e+08,  3.06970387e+07,\n",
       "        9.75603235e+06,  3.33944662e+08,  6.62569743e+07,  2.25292852e+06,\n",
       "        1.07985092e+08,  1.14853904e+08,  1.43129066e+08,  9.73946730e+07,\n",
       "        7.57453567e+07, -1.28157426e+07,  5.36511528e+07,  3.13546968e+07,\n",
       "        1.06015006e+08,  4.56910590e+07,  1.53236639e+08,  1.39180108e+07,\n",
       "       -3.24828171e+07,  2.55343409e+08,  3.43034909e+07,  3.15156054e+08,\n",
       "        2.16281176e+07,  8.65784315e+07,  3.60623228e+08,  4.11659917e+07,\n",
       "        1.44917877e+08,  5.35133252e+06,  4.05569369e+08,  1.67340791e+08,\n",
       "        2.63496830e+07,  2.89827975e+07,  5.99496979e+07,  6.04160450e+07,\n",
       "        4.66809413e+07,  1.26030202e+08,  4.27070130e+07,  1.72697175e+07,\n",
       "        3.06992615e+07,  1.74416294e+08,  8.24965553e+07,  3.08369363e+07,\n",
       "        3.72498500e+08,  1.76739807e+07,  5.93553786e+07,  3.45721388e+07,\n",
       "        6.08520132e+08,  1.29611195e+08,  2.49922916e+08,  9.26038640e+07,\n",
       "        5.38414468e+07,  8.65751475e+07,  1.77244081e+08,  4.11551884e+08,\n",
       "       -1.42859617e+07, -1.87034751e+07,  1.02452792e+09,  4.99896671e+07,\n",
       "        8.01673174e+07,  1.48452694e+08,  1.74436126e+07,  4.01144184e+07,\n",
       "        5.84725804e+08,  2.85912696e+07,  4.04135319e+08,  2.37938057e+08,\n",
       "        7.61819110e+07, -7.23306740e+07,  2.81606155e+08,  2.12915897e+07,\n",
       "        4.03588972e+08,  1.25268448e+08,  1.51387078e+08,  2.03269666e+07,\n",
       "        1.06391458e+08,  1.32808396e+08,  9.13211071e+08,  2.01190845e+07,\n",
       "        2.96715687e+08,  1.28581049e+08,  9.40893361e+07,  6.90296373e+07,\n",
       "        1.24825853e+08,  9.92198953e+07,  2.44121430e+07,  3.11082838e+08,\n",
       "        2.74537607e+08,  6.09378150e+07,  4.86663410e+08,  5.23133109e+07,\n",
       "        5.11798239e+07,  4.34402976e+07,  5.76785430e+06,  7.15037771e+07,\n",
       "        2.97114814e+08,  2.17497681e+08,  3.12220939e+07,  6.76144474e+07,\n",
       "        1.18939413e+08,  8.73590964e+07,  4.89405500e+08,  1.06997206e+08,\n",
       "        9.30825699e+07,  1.84505838e+07,  1.04956896e+08,  5.37002922e+08,\n",
       "        7.94902997e+07,  5.10897204e+08,  7.92338834e+07, -2.90303864e+06,\n",
       "        4.18797386e+08,  5.61758921e+07,  4.27116692e+07,  1.94515169e+07,\n",
       "        6.72396309e+07,  1.19060925e+08,  1.15281886e+08,  5.61388196e+07,\n",
       "        4.30453440e+07,  5.11348179e+07,  4.71359447e+07, -2.76337064e+07,\n",
       "        3.68514191e+08,  6.11034835e+07,  4.94829061e+07,  8.21979551e+07,\n",
       "        3.12220528e+07,  6.63633662e+07,  9.95012667e+07,  9.89889648e+07,\n",
       "        2.60634731e+08,  7.94476450e+07,  8.68397124e+07,  3.00476136e+07,\n",
       "        7.20725476e+07,  5.32100469e+07,  2.23123561e+08,  1.70482074e+08,\n",
       "        7.76842858e+07,  1.55395497e+08,  9.11061509e+05,  3.29132140e+07,\n",
       "        6.75795989e+08,  6.07102237e+08,  5.45532380e+07,  2.48942067e+08,\n",
       "        5.81881082e+07,  1.28338743e+07,  1.40793324e+08,  1.62897228e+07,\n",
       "       -2.51991789e+07,  1.40377032e+08,  8.74150661e+07,  9.02442205e+07,\n",
       "        4.85745087e+07,  5.19943195e+07,  6.55480400e+07,  1.31932932e+08,\n",
       "        4.86915332e+07,  6.72253987e+08,  6.55460876e+07,  5.74052780e+07,\n",
       "        2.44003270e+07,  2.32505657e+08,  2.06385614e+07,  7.23178423e+07,\n",
       "        9.52149472e+08,  1.28860001e+08,  1.74043577e+08,  1.95084854e+08,\n",
       "        4.11154597e+07,  1.19527502e+07,  6.18182357e+07,  9.74203877e+07,\n",
       "        5.80291724e+07,  3.33707541e+07,  5.31394143e+07,  3.99653299e+08,\n",
       "        4.44822507e+08,  3.61778438e+07,  9.84929317e+07,  1.58832654e+08,\n",
       "        3.39485783e+07,  1.11241124e+08,  6.17618541e+07,  1.46927152e+09,\n",
       "        2.05191078e+08,  3.87383985e+08,  2.99310129e+07,  1.85592473e+08,\n",
       "        8.14003609e+07,  6.64837513e+07,  7.95620449e+07,  6.33949284e+07,\n",
       "        4.83882259e+07,  1.28813360e+07,  1.89937314e+07,  1.88448156e+08,\n",
       "        5.57347080e+06,  4.65212012e+08,  6.63478350e+07, -4.94246910e+07,\n",
       "        4.45849015e+08,  1.45583637e+08,  7.41156238e+07,  1.01972599e+08,\n",
       "        3.23622684e+07,  1.22706241e+08,  6.33064036e+07, -1.26413483e+07,\n",
       "        5.40866355e+06,  9.00834756e+07,  1.18756600e+08,  2.46967684e+08,\n",
       "        6.73782899e+07,  5.08929493e+07,  1.05743620e+08,  3.96746704e+07,\n",
       "        6.51633562e+07,  3.52176873e+07,  9.84072749e+07,  8.68162060e+07,\n",
       "        2.40451209e+07,  3.60199492e+07,  6.77213427e+07,  2.52881794e+07,\n",
       "        5.80821534e+07,  5.61672786e+07,  3.70161227e+07,  3.58221097e+07,\n",
       "        2.51168258e+08,  4.63587554e+07,  4.82391213e+07,  5.73874255e+08,\n",
       "        7.22642380e+07,  3.92260525e+07,  7.17454481e+07,  4.64539222e+07,\n",
       "        2.03811761e+08,  3.26870485e+07,  1.31650523e+08,  5.35040601e+07,\n",
       "        1.82439583e+08,  1.61863337e+08,  2.69654172e+07,  8.12597006e+08,\n",
       "        1.53580513e+07,  1.33200335e+08,  4.19049473e+07,  4.18967030e+08,\n",
       "        3.60658977e+07,  1.75283404e+08,  3.57671679e+08,  7.77509778e+07,\n",
       "        7.00638079e+07,  3.63640757e+07,  3.20339256e+08,  7.37511750e+07,\n",
       "        7.59448588e+07,  1.37442731e+08,  3.76855480e+08,  7.77024262e+07,\n",
       "        4.09650637e+07,  1.98813005e+08,  4.33912040e+07,  2.44377653e+07,\n",
       "        4.62407728e+07,  9.08836470e+07,  1.44439853e+08,  2.94608322e+08,\n",
       "        7.65869432e+07,  5.89080678e+07,  6.61561283e+08,  3.78983973e+07,\n",
       "        1.84556559e+08,  7.83759996e+08,  7.33287701e+07,  8.81823057e+07,\n",
       "        1.39429282e+08,  4.75528663e+07,  7.05411649e+07,  2.15162594e+08,\n",
       "        4.45310254e+08,  3.05440907e+07,  2.21638280e+08,  5.74041807e+07,\n",
       "        1.24766439e+08,  8.61889944e+07,  2.97716870e+08,  4.45793456e+08,\n",
       "        6.61397115e+07,  3.80926099e+07,  1.87443687e+08,  2.72300417e+07,\n",
       "        1.36585153e+08,  5.64159645e+07,  8.76975613e+07,  1.80803931e+08,\n",
       "        3.97954427e+08,  6.19274831e+07,  4.53027213e+07,  2.09852860e+08,\n",
       "        8.53254870e+07,  1.18499441e+09,  8.91577377e+07,  3.42646056e+07,\n",
       "        8.30407392e+08,  9.86757507e+07,  1.24665264e+08,  1.83211626e+07,\n",
       "        4.37761593e+07])"
      ]
     },
     "execution_count": 11,
     "metadata": {},
     "output_type": "execute_result"
    }
   ],
   "source": [
    "predicted #Estas son algunas de las predicciones"
   ]
  },
  {
   "cell_type": "code",
   "execution_count": 12,
   "metadata": {},
   "outputs": [
    {
     "data": {
      "text/plain": [
       "(889,)"
      ]
     },
     "execution_count": 12,
     "metadata": {},
     "output_type": "execute_result"
    }
   ],
   "source": [
    "predicted.shape"
   ]
  },
  {
   "cell_type": "code",
   "execution_count": 13,
   "metadata": {},
   "outputs": [
    {
     "data": {
      "image/png": "[encoded data removed]",
      "text/plain": [
       "<Figure size 432x288 with 1 Axes>"
      ]
     },
     "metadata": {},
     "output_type": "display_data"
    }
   ],
   "source": [
    "import matplotlib.pyplot as plt\n",
    "%matplotlib inline\n",
    "\n",
    "plt.hist([predicted,y_test]);"
   ]
  },
  {
   "cell_type": "code",
   "execution_count": 14,
   "metadata": {},
   "outputs": [
    {
     "data": {
      "image/png": "[encoded data removed]",
      "text/plain": [
       "<Figure size 432x288 with 1 Axes>"
      ]
     },
     "metadata": {},
     "output_type": "display_data"
    }
   ],
   "source": [
    "import matplotlib.pyplot as plt\n",
    "%matplotlib inline\n",
    "\n",
    "plt.hist([predicted,y_test],log=True);"
   ]
  },
  {
   "cell_type": "markdown",
   "metadata": {},
   "source": [
    "### Ajustando Modelos de Machine Mearning, Underfitting y Overfitting"
   ]
  },
  {
   "cell_type": "markdown",
   "metadata": {},
   "source": [
    "\n",
    "<img src=\"img/ajuste_de_modelos.png\" width=\"700\" style=\"margin:0 auto;clear:both\">"
   ]
  },
  {
   "cell_type": "markdown",
   "metadata": {},
   "source": [
    "<div class=\"alert alert-block alert-info\" style=\"margin-top: 20px\">\n",
    "<ul>\n",
    "<li>Poliniomio = <strong style=\"color:red;\">Constante</strong> -> <strong style=\"color:red;\">Promedio</strong>: No logra predecir muy bien los datos; Nos da un error de entrenamiento alto y un error de test alto, esta situación se llama <strong style=\"color:red;\"> Underfitting</strong></li>\n",
    "<li><strong style=\"color:red;\">Polinomio de alto grado</strong> = Pasa muy cerca a los datos de entrenamiento, posee muchas variaciones, pero nos va a generar errores con los datos de test, esta es una situación de <strong style=\"color:red;\">Overfitting</strong> dado que es demaciado complejo, no logra tomar el patrón real de los datos</li>\n",
    "<li><strong style=\"color:purple;\">Polinomio de grado 2</strong> = el cual nos genera una <strong style=\"color:purple;\">parábola</strong> la cual va a generarnos un error bajo en el entrenamiento y tambíen un error bajo en el test</li>\n",
    "</ul>\n",
    "</div>"
   ]
  },
  {
   "cell_type": "markdown",
   "metadata": {
    "slideshow": {
     "slide_type": "slide"
    }
   },
   "source": [
    "## Evaluemos de forma más fina el comportamiento de nuestro modelo"
   ]
  },
  {
   "cell_type": "markdown",
   "metadata": {
    "slideshow": {
     "slide_type": "slide"
    }
   },
   "source": [
    "<div class=\"alert alert-block alert-info\" style=\"margin-top: 20px\">\n",
    "  Los estimadores y las funciones de sklearn vienen con el máximo de argumentos con valores por defecto que suelen ser las mejores opciones si no tenemos algun conocimiento particular el problema. En este caso particular la función <code>estimator.score</code> ya viene con una de las métricas de <code>sklearn.metrics</code>, que es la métrica <code>sklearn.metric.r2_score</code>\n",
    "</div>\n"
   ]
  },
  {
   "cell_type": "markdown",
   "metadata": {
    "slideshow": {
     "slide_type": "-"
    }
   },
   "source": [
    "<div class=\"alert alert-success\">\n",
    "  El <strong>score R2</strong> de una regresión es una de las formas más comunes de entender su poder predictivo. Este <strong>mientras más cerca de 1 este, mejor es</strong>\n",
    "</div>\n",
    "<div class=\"alert alert-success\">\n",
    "Los valores que puede tomar son de -infinito hasta 1. Un score R2 negativo es malo, ya que esto indica que la regresión es peor que si simplemente eligieramos un valor fijo como predicción para todos los puntos, la media. \n",
    "</div>"
   ]
  },
  {
   "cell_type": "code",
   "execution_count": 15,
   "metadata": {
    "slideshow": {
     "slide_type": "slide"
    }
   },
   "outputs": [
    {
     "data": {
      "text/plain": [
       "0.7767014658672544"
      ]
     },
     "execution_count": 15,
     "metadata": {},
     "output_type": "execute_result"
    }
   ],
   "source": [
    "model.score(X_test,y_test) #Este es nuestro primer score la idea es llevarlo a >0.7"
   ]
  },
  {
   "cell_type": "markdown",
   "metadata": {
    "slideshow": {
     "slide_type": "-"
    }
   },
   "source": [
    "Bastante bien para un primer modelo!"
   ]
  },
  {
   "cell_type": "markdown",
   "metadata": {
    "slideshow": {
     "slide_type": "slide"
    }
   },
   "source": [
    "Un buen score R2 es importante para una regresión. Pero no lo es todo. De forma general los scores hay que complementarlos con visualizaciones de los datos ya que una métrica no logra siempre encodear todas las caracteristicas de una distribución de probabilidades. Un ejemplo es el siguiente:\n",
    "\n",
    "<img src=\"img/datasaurus_dozen.png\" width=\"800\" style=\"margin:0 auto;clear:both\">\n",
    "<div class=\"alert alert-success\">\n",
    "<strong>Siempre visualiza tus resultados</strong>, aunque tengas un buen score de performance.\n",
    "</div>\n",
    "\n"
   ]
  },
  {
   "cell_type": "code",
   "execution_count": 16,
   "metadata": {},
   "outputs": [],
   "source": [
    "residuals = y_test - predicted"
   ]
  },
  {
   "cell_type": "code",
   "execution_count": 17,
   "metadata": {},
   "outputs": [
    {
     "data": {
      "text/plain": [
       "<matplotlib.collections.PathCollection at 0x7f441b883b00>"
      ]
     },
     "execution_count": 17,
     "metadata": {},
     "output_type": "execute_result"
    },
    {
     "data": {
      "image/png": "[encoded data removed]",
      "text/plain": [
       "<Figure size 432x288 with 1 Axes>"
      ]
     },
     "metadata": {},
     "output_type": "display_data"
    }
   ],
   "source": [
    "plt.scatter(y_test,residuals) #Mientras no hayan patrones alejados estamos bastante bien"
   ]
  },
  {
   "cell_type": "code",
   "execution_count": 18,
   "metadata": {},
   "outputs": [],
   "source": [
    "ap_residuals = np.abs(residuals) / y_test"
   ]
  },
  {
   "cell_type": "code",
   "execution_count": 19,
   "metadata": {
    "scrolled": true
   },
   "outputs": [
    {
     "data": {
      "text/plain": [
       "<matplotlib.collections.PathCollection at 0x7f441b78b860>"
      ]
     },
     "execution_count": 19,
     "metadata": {},
     "output_type": "execute_result"
    },
    {
     "data": {
      "image/png": "[encoded data removed]",
      "text/plain": [
       "<Figure size 432x288 with 1 Axes>"
      ]
     },
     "metadata": {},
     "output_type": "display_data"
    }
   ],
   "source": [
    "plt.scatter(y_test,ap_residuals)"
   ]
  },
  {
   "cell_type": "code",
   "execution_count": 20,
   "metadata": {},
   "outputs": [],
   "source": [
    "lap_residuals = np.log(ap_residuals)"
   ]
  },
  {
   "cell_type": "code",
   "execution_count": 21,
   "metadata": {},
   "outputs": [
    {
     "data": {
      "text/plain": [
       "<matplotlib.collections.PathCollection at 0x7f441b7417f0>"
      ]
     },
     "execution_count": 21,
     "metadata": {},
     "output_type": "execute_result"
    },
    {
     "data": {
      "image/png": "[encoded data removed]",
      "text/plain": [
       "<Figure size 432x288 with 1 Axes>"
      ]
     },
     "metadata": {},
     "output_type": "display_data"
    }
   ],
   "source": [
    "plt.scatter(y_test,lap_residuals)"
   ]
  },
  {
   "cell_type": "code",
   "execution_count": 22,
   "metadata": {},
   "outputs": [
    {
     "name": "stderr",
     "output_type": "stream",
     "text": [
      "/home/jbeltranleon/.virtualenvs/mlenv/lib/python3.6/site-packages/matplotlib/axes/_axes.py:6462: UserWarning: The 'normed' kwarg is deprecated, and has been replaced by the 'density' kwarg.\n",
      "  warnings.warn(\"The 'normed' kwarg is deprecated, and has been \"\n"
     ]
    },
    {
     "data": {
      "image/png": "[encoded data removed]",
      "text/plain": [
       "<Figure size 432x288 with 1 Axes>"
      ]
     },
     "metadata": {},
     "output_type": "display_data"
    }
   ],
   "source": [
    "plt.hist(lap_residuals,bins=100, normed=1, histtype='step', cumulative=True); #Evaluación numérica de los errores"
   ]
  },
  {
   "cell_type": "code",
   "execution_count": 23,
   "metadata": {},
   "outputs": [
    {
     "name": "stderr",
     "output_type": "stream",
     "text": [
      "/home/jbeltranleon/.virtualenvs/mlenv/lib/python3.6/site-packages/matplotlib/axes/_axes.py:6462: UserWarning: The 'normed' kwarg is deprecated, and has been replaced by the 'density' kwarg.\n",
      "  warnings.warn(\"The 'normed' kwarg is deprecated, and has been \"\n"
     ]
    },
    {
     "data": {
      "text/plain": [
       "array([0.13533528, 0.22313016, 0.36787944, 0.60653066, 1.        ])"
      ]
     },
     "execution_count": 23,
     "metadata": {},
     "output_type": "execute_result"
    },
    {
     "data": {
      "image/png": "[encoded data removed]",
      "text/plain": [
       "<Figure size 432x288 with 1 Axes>"
      ]
     },
     "metadata": {},
     "output_type": "display_data"
    }
   ],
   "source": [
    "plt.hist(lap_residuals, bins=100, normed=1, histtype='step',cumulative=True);\n",
    "plt.axis([-2,0,0,1])\n",
    "np.power(np.exp(1)*np.ones(5),np.linspace(-2,0,5))"
   ]
  },
  {
   "cell_type": "code",
   "execution_count": 24,
   "metadata": {},
   "outputs": [
    {
     "data": {
      "text/plain": [
       "array([ 1.33519700e+00, -9.49233163e+04,  1.30036917e+00,  1.90808488e+05,\n",
       "       -1.47003726e+02,  3.55517065e-03,  2.57877569e+07,  5.84429769e+00,\n",
       "       -1.22955844e+04])"
      ]
     },
     "execution_count": 24,
     "metadata": {},
     "output_type": "execute_result"
    }
   ],
   "source": [
    "model.coef_"
   ]
  },
  {
   "cell_type": "code",
   "execution_count": 25,
   "metadata": {},
   "outputs": [
    {
     "data": {
      "text/plain": [
       "<matplotlib.collections.PathCollection at 0x7f441b57acc0>"
      ]
     },
     "execution_count": 25,
     "metadata": {},
     "output_type": "execute_result"
    },
    {
     "data": {
      "image/png": "[encoded data removed]",
      "text/plain": [
       "<Figure size 432x288 with 1 Axes>"
      ]
     },
     "metadata": {},
     "output_type": "display_data"
    }
   ],
   "source": [
    "plt.scatter(np.arange(9),model.coef_)"
   ]
  },
  {
   "cell_type": "code",
   "execution_count": 26,
   "metadata": {},
   "outputs": [
    {
     "name": "stdout",
     "output_type": "stream",
     "text": [
      "('production_budget', 1.335197001064018)\n",
      "('title_year', -94923.31632860098)\n",
      "('aspect_ratio', 1.300369165911471)\n",
      "('duration.1', 190808.48787003887)\n",
      "('cast_total_facebook_likes', -147.00372572887093)\n",
      "('budget', 0.003555170648572782)\n",
      "('imdb_score', 25787756.936072573)\n",
      "('opening_gross', 5.844297686076116)\n",
      "('screens', -12295.58439361925)\n"
     ]
    }
   ],
   "source": [
    "for el in zip(list(X.columns),list(model.coef_)):\n",
    "    print(el)"
   ]
  }
 ],
 "metadata": {
  "kernelspec": {
   "display_name": "Python 3",
   "language": "python",
   "name": "python3"
  },
  "language_info": {
   "codemirror_mode": {
    "name": "ipython",
    "version": 3
   },
   "file_extension": ".py",
   "mimetype": "text/x-python",
   "name": "python",
   "nbconvert_exporter": "python",
   "pygments_lexer": "ipython3",
   "version": "3.6.3"
  },
  "latex_envs": {
   "LaTeX_envs_menu_present": true,
   "autocomplete": true,
   "bibliofile": "biblio.bib",
   "cite_by": "apalike",
   "current_citInitial": 1,
   "eqLabelWithNumbers": true,
   "eqNumInitial": 1,
   "hotkeys": {
    "equation": "Ctrl-E",
    "itemize": "Ctrl-I"
   },
   "labels_anchors": false,
   "latex_user_defs": false,
   "report_style_numbering": false,
   "user_envs_cfg": false
  }
 },
 "nbformat": 4,
 "nbformat_minor": 2
}
